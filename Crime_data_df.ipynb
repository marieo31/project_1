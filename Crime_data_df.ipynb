{
 "cells": [
  {
   "cell_type": "code",
   "execution_count": 1,
   "metadata": {},
   "outputs": [],
   "source": [
    "# Dependencies\n",
    "import pandas as pd\n",
    "import numpy as np\n",
    "import csv\n",
    "import os"
   ]
  },
  {
   "cell_type": "code",
   "execution_count": 2,
   "metadata": {},
   "outputs": [
    {
     "name": "stderr",
     "output_type": "stream",
     "text": [
      "C:\\Users\\MariO\\Anaconda3\\lib\\site-packages\\IPython\\core\\interactiveshell.py:2785: DtypeWarning: Columns (0) have mixed types. Specify dtype option on import or set low_memory=False.\n",
      "  interactivity=interactivity, compiler=compiler, result=result)\n"
     ]
    },
    {
     "data": {
      "text/html": [
       "<div>\n",
       "<style scoped>\n",
       "    .dataframe tbody tr th:only-of-type {\n",
       "        vertical-align: middle;\n",
       "    }\n",
       "\n",
       "    .dataframe tbody tr th {\n",
       "        vertical-align: top;\n",
       "    }\n",
       "\n",
       "    .dataframe thead th {\n",
       "        text-align: right;\n",
       "    }\n",
       "</style>\n",
       "<table border=\"1\" class=\"dataframe\">\n",
       "  <thead>\n",
       "    <tr style=\"text-align: right;\">\n",
       "      <th></th>\n",
       "      <th>INC NUMBER</th>\n",
       "      <th>OCCURRED ON</th>\n",
       "      <th>OCCURRED TO</th>\n",
       "      <th>UCR CRIME CATEGORY</th>\n",
       "      <th>100 BLOCK ADDR</th>\n",
       "      <th>ZIP</th>\n",
       "      <th>PREMISE TYPE</th>\n",
       "    </tr>\n",
       "  </thead>\n",
       "  <tbody>\n",
       "    <tr>\n",
       "      <th>0</th>\n",
       "      <td>201700001722914</td>\n",
       "      <td>11/01/2015  00:00</td>\n",
       "      <td>NaN</td>\n",
       "      <td>LARCENY-THEFT</td>\n",
       "      <td>279XX N 23RD LN</td>\n",
       "      <td>85085.0</td>\n",
       "      <td>SINGLE FAMILY HOUSE</td>\n",
       "    </tr>\n",
       "    <tr>\n",
       "      <th>1</th>\n",
       "      <td>201700001603695</td>\n",
       "      <td>11/01/2015  00:00</td>\n",
       "      <td>03/31/2016  00:00</td>\n",
       "      <td>RAPE</td>\n",
       "      <td>38XX W CAMELBACK RD</td>\n",
       "      <td>85019.0</td>\n",
       "      <td>HOSPITAL</td>\n",
       "    </tr>\n",
       "    <tr>\n",
       "      <th>2</th>\n",
       "      <td>201600000052855</td>\n",
       "      <td>11/01/2015  00:00</td>\n",
       "      <td>01/09/2016  00:00</td>\n",
       "      <td>MOTOR VEHICLE THEFT</td>\n",
       "      <td>N 43RD AVE &amp; W CACTUS RD</td>\n",
       "      <td>85029.0</td>\n",
       "      <td>SINGLE FAMILY HOUSE</td>\n",
       "    </tr>\n",
       "    <tr>\n",
       "      <th>3</th>\n",
       "      <td>201500002102668</td>\n",
       "      <td>11/01/2015  00:00</td>\n",
       "      <td>11/01/2015  11:50</td>\n",
       "      <td>MOTOR VEHICLE THEFT</td>\n",
       "      <td>69XX W WOOD ST</td>\n",
       "      <td>85043.0</td>\n",
       "      <td>SINGLE FAMILY HOUSE</td>\n",
       "    </tr>\n",
       "    <tr>\n",
       "      <th>4</th>\n",
       "      <td>201500002168686</td>\n",
       "      <td>11/01/2015  00:00</td>\n",
       "      <td>11/11/2015  09:30</td>\n",
       "      <td>LARCENY-THEFT</td>\n",
       "      <td>14XX E HIGHLAND AVE</td>\n",
       "      <td>85014.0</td>\n",
       "      <td>PARKING LOT</td>\n",
       "    </tr>\n",
       "  </tbody>\n",
       "</table>\n",
       "</div>"
      ],
      "text/plain": [
       "        INC NUMBER        OCCURRED ON        OCCURRED TO   UCR CRIME CATEGORY  \\\n",
       "0  201700001722914  11/01/2015  00:00                NaN        LARCENY-THEFT   \n",
       "1  201700001603695  11/01/2015  00:00  03/31/2016  00:00                 RAPE   \n",
       "2  201600000052855  11/01/2015  00:00  01/09/2016  00:00  MOTOR VEHICLE THEFT   \n",
       "3  201500002102668  11/01/2015  00:00  11/01/2015  11:50  MOTOR VEHICLE THEFT   \n",
       "4  201500002168686  11/01/2015  00:00  11/11/2015  09:30        LARCENY-THEFT   \n",
       "\n",
       "             100 BLOCK ADDR      ZIP         PREMISE TYPE  \n",
       "0           279XX N 23RD LN  85085.0  SINGLE FAMILY HOUSE  \n",
       "1       38XX W CAMELBACK RD  85019.0             HOSPITAL  \n",
       "2  N 43RD AVE & W CACTUS RD  85029.0  SINGLE FAMILY HOUSE  \n",
       "3            69XX W WOOD ST  85043.0  SINGLE FAMILY HOUSE  \n",
       "4       14XX E HIGHLAND AVE  85014.0          PARKING LOT  "
      ]
     },
     "execution_count": 2,
     "metadata": {},
     "output_type": "execute_result"
    }
   ],
   "source": [
    "# File to Load (Remember to Change These)\n",
    "file_to_load = \"resources/crime-data_crime-data_crimestat.csv\"\n",
    "fziplist = r\"resources/zipcodes.csv\"\n",
    "file_clean = \"resources/clean_crime_data.csv\"\n",
    "\n",
    "# Read Purchasing File and store into Pandas data frame\n",
    "df = pd.read_csv(file_to_load)\n",
    "\n",
    "df.head()\n",
    "\n",
    "# df.count()"
   ]
  },
  {
   "cell_type": "code",
   "execution_count": 3,
   "metadata": {},
   "outputs": [
    {
     "data": {
      "text/html": [
       "<div>\n",
       "<style scoped>\n",
       "    .dataframe tbody tr th:only-of-type {\n",
       "        vertical-align: middle;\n",
       "    }\n",
       "\n",
       "    .dataframe tbody tr th {\n",
       "        vertical-align: top;\n",
       "    }\n",
       "\n",
       "    .dataframe thead th {\n",
       "        text-align: right;\n",
       "    }\n",
       "</style>\n",
       "<table border=\"1\" class=\"dataframe\">\n",
       "  <thead>\n",
       "    <tr style=\"text-align: right;\">\n",
       "      <th></th>\n",
       "      <th>ZIP</th>\n",
       "      <th>OCCURRED ON</th>\n",
       "    </tr>\n",
       "  </thead>\n",
       "  <tbody>\n",
       "    <tr>\n",
       "      <th>0</th>\n",
       "      <td>85085.0</td>\n",
       "      <td>11/01/2015  00:00</td>\n",
       "    </tr>\n",
       "    <tr>\n",
       "      <th>1</th>\n",
       "      <td>85019.0</td>\n",
       "      <td>11/01/2015  00:00</td>\n",
       "    </tr>\n",
       "    <tr>\n",
       "      <th>2</th>\n",
       "      <td>85029.0</td>\n",
       "      <td>11/01/2015  00:00</td>\n",
       "    </tr>\n",
       "    <tr>\n",
       "      <th>3</th>\n",
       "      <td>85043.0</td>\n",
       "      <td>11/01/2015  00:00</td>\n",
       "    </tr>\n",
       "    <tr>\n",
       "      <th>4</th>\n",
       "      <td>85014.0</td>\n",
       "      <td>11/01/2015  00:00</td>\n",
       "    </tr>\n",
       "  </tbody>\n",
       "</table>\n",
       "</div>"
      ],
      "text/plain": [
       "       ZIP        OCCURRED ON\n",
       "0  85085.0  11/01/2015  00:00\n",
       "1  85019.0  11/01/2015  00:00\n",
       "2  85029.0  11/01/2015  00:00\n",
       "3  85043.0  11/01/2015  00:00\n",
       "4  85014.0  11/01/2015  00:00"
      ]
     },
     "execution_count": 3,
     "metadata": {},
     "output_type": "execute_result"
    }
   ],
   "source": [
    "# select only the interesting columns\n",
    "crime_df = df.loc[:, [\"ZIP\", \"OCCURRED ON\"]]\n",
    "crime_df.head()"
   ]
  },
  {
   "cell_type": "code",
   "execution_count": 4,
   "metadata": {},
   "outputs": [
    {
     "data": {
      "text/html": [
       "<div>\n",
       "<style scoped>\n",
       "    .dataframe tbody tr th:only-of-type {\n",
       "        vertical-align: middle;\n",
       "    }\n",
       "\n",
       "    .dataframe tbody tr th {\n",
       "        vertical-align: top;\n",
       "    }\n",
       "\n",
       "    .dataframe thead th {\n",
       "        text-align: right;\n",
       "    }\n",
       "</style>\n",
       "<table border=\"1\" class=\"dataframe\">\n",
       "  <thead>\n",
       "    <tr style=\"text-align: right;\">\n",
       "      <th></th>\n",
       "      <th>ZipCode</th>\n",
       "      <th>nb of crimes</th>\n",
       "    </tr>\n",
       "  </thead>\n",
       "  <tbody>\n",
       "    <tr>\n",
       "      <th>0</th>\n",
       "      <td>85003</td>\n",
       "      <td>2203</td>\n",
       "    </tr>\n",
       "    <tr>\n",
       "      <th>1</th>\n",
       "      <td>85004</td>\n",
       "      <td>2310</td>\n",
       "    </tr>\n",
       "    <tr>\n",
       "      <th>2</th>\n",
       "      <td>85006</td>\n",
       "      <td>3769</td>\n",
       "    </tr>\n",
       "    <tr>\n",
       "      <th>3</th>\n",
       "      <td>85007</td>\n",
       "      <td>3002</td>\n",
       "    </tr>\n",
       "    <tr>\n",
       "      <th>4</th>\n",
       "      <td>85008</td>\n",
       "      <td>8935</td>\n",
       "    </tr>\n",
       "  </tbody>\n",
       "</table>\n",
       "</div>"
      ],
      "text/plain": [
       "   ZipCode  nb of crimes\n",
       "0    85003          2203\n",
       "1    85004          2310\n",
       "2    85006          3769\n",
       "3    85007          3002\n",
       "4    85008          8935"
      ]
     },
     "execution_count": 4,
     "metadata": {},
     "output_type": "execute_result"
    }
   ],
   "source": [
    "nb_crimes_df = crime_df.groupby(\"ZIP\").count().reset_index()\n",
    "\n",
    "# renaming the columns of nb of crimes\n",
    "nb_crimes_df = nb_crimes_df.rename(columns={\"OCCURRED ON\":\"nb of crimes\",\n",
    "                                           \"ZIP\":\"ZipCode\"})\n",
    "nb_crimes_df[\"ZipCode\"] = nb_crimes_df[\"ZipCode\"].astype(int)\n",
    "\n",
    "# .astype(str)\n",
    "nb_crimes_df.head()\n",
    "\n"
   ]
  },
  {
   "cell_type": "code",
   "execution_count": 5,
   "metadata": {},
   "outputs": [
    {
     "name": "stdout",
     "output_type": "stream",
     "text": [
      "ZipCode         104\n",
      "nb of crimes    104\n",
      "dtype: int64\n",
      "ZipCode         155\n",
      "City            155\n",
      "nb of crimes    103\n",
      "dtype: int64\n"
     ]
    }
   ],
   "source": [
    "# Let's merge the data with the zipcode list we have --> so we have NaN values on the empty zipcodes\n",
    "\n",
    "zip_df = pd.read_csv(fziplist, names=[\"ZipCode\",\"City\"])\n",
    "# selected_zipcodes = list(zip_df[\"ZipCode\"])\n",
    "zip_df.head()\n",
    "print(nb_crimes_df.count())\n",
    "\n",
    "nb_crimes_df = pd.merge(zip_df, nb_crimes_df, on=\"ZipCode\", how=\"left\")\n",
    "\n",
    "print(nb_crimes_df.count())\n",
    "\n"
   ]
  },
  {
   "cell_type": "code",
   "execution_count": 7,
   "metadata": {},
   "outputs": [],
   "source": [
    "# then save it to a csv file\n",
    "nb_crimes_df.to_csv(file_clean, index=False)"
   ]
  },
  {
   "cell_type": "code",
   "execution_count": null,
   "metadata": {},
   "outputs": [],
   "source": [
    " "
   ]
  },
  {
   "cell_type": "code",
   "execution_count": null,
   "metadata": {},
   "outputs": [],
   "source": []
  }
 ],
 "metadata": {
  "kernelspec": {
   "display_name": "Python 3",
   "language": "python",
   "name": "python3"
  },
  "language_info": {
   "codemirror_mode": {
    "name": "ipython",
    "version": 3
   },
   "file_extension": ".py",
   "mimetype": "text/x-python",
   "name": "python",
   "nbconvert_exporter": "python",
   "pygments_lexer": "ipython3",
   "version": "3.6.5"
  }
 },
 "nbformat": 4,
 "nbformat_minor": 2
}
