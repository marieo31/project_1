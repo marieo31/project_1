{
 "cells": [
  {
   "cell_type": "code",
   "execution_count": 1,
   "metadata": {},
   "outputs": [],
   "source": [
    "# Dependencies\n",
    "import tweepy\n",
    "import numpy as np\n",
    "import pandas as pd\n",
    "import matplotlib.pyplot as plt\n",
    "from datetime import datetime\n",
    "import seaborn as sns\n",
    "\n",
    "# Import and Initialize Sentiment Analyzer\n",
    "from vaderSentiment.vaderSentiment import SentimentIntensityAnalyzer\n",
    "analyzer = SentimentIntensityAnalyzer()\n",
    "\n",
    "# Twitter API Keys\n",
    "from config import (consumer_key, \n",
    "                    consumer_secret, \n",
    "                    access_token, \n",
    "                    access_token_secret)\n",
    "\n",
    "# Setup Tweepy API Authentication\n",
    "auth = tweepy.OAuthHandler(consumer_key, consumer_secret)\n",
    "auth.set_access_token(access_token, access_token_secret)\n",
    "api = tweepy.API(auth, parser=tweepy.parsers.JSONParser())"
   ]
  },
  {
   "cell_type": "code",
   "execution_count": 2,
   "metadata": {},
   "outputs": [],
   "source": [
    "\n",
    "# Target Search Term\n",
    "target_terms = (\"cityofphoenixaz\", \"cityofmesa\", \"scottsdaleaz\",\"cityofchandler\", \"tempegov\", \"glendaleaz\", \"gilbertaz\")\n",
    "\n",
    "# \"Real Person\" Filters\n",
    "min_tweets = 5\n",
    "max_tweets = 10000\n",
    "max_followers = 2500\n",
    "max_following = 2500\n",
    "lang = \"en\"\n",
    "\n",
    "# List to hold results\n",
    "results_list = []\n",
    "\n",
    "# Loop through all target users\n",
    "for target in target_terms:\n",
    "\n",
    "    # Variable for holding the oldest tweet\n",
    "    oldest_tweet = None\n",
    "\n",
    "    # Variables for holding sentiments\n",
    "    compound_list = []\n",
    "    positive_list = []\n",
    "    negative_list = []\n",
    "    neutral_list = []\n",
    "\n",
    "    # Loop through 10 times\n",
    "    for x in range(1):\n",
    "\n",
    "        # Run search around each tweet\n",
    "        public_tweets = api.search(\n",
    "            target, count=100, result_type=\"recent\", max_id=oldest_tweet)\n",
    "\n",
    "        # Loop through all tweets\n",
    "        for tweet in public_tweets[\"statuses\"]:\n",
    "\n",
    "            # Use filters to check if user meets conditions\n",
    "            if (tweet[\"user\"][\"followers_count\"] < max_followers\n",
    "                and tweet[\"user\"][\"statuses_count\"] > min_tweets\n",
    "                and tweet[\"user\"][\"statuses_count\"] < max_tweets\n",
    "                and tweet[\"user\"][\"friends_count\"] < max_following\n",
    "                and tweet[\"user\"][\"lang\"] == lang):\n",
    "\n",
    "                # Run Vader Analysis on each tweet\n",
    "                results = analyzer.polarity_scores(tweet[\"text\"])\n",
    "                compound = results[\"compound\"]\n",
    "                pos = results[\"pos\"]\n",
    "                neu = results[\"neu\"]\n",
    "                neg = results[\"neg\"]\n",
    "\n",
    "                # Add each value to the appropriate list\n",
    "                compound_list.append(compound)\n",
    "                positive_list.append(pos)\n",
    "                negative_list.append(neg)\n",
    "                neutral_list.append(neu)\n",
    "                \n",
    "            # Set the new oldest_tweet value\n",
    "            oldest_tweet = tweet[\"id\"] - 1\n",
    "\n",
    "    # Store the Average Sentiments\n",
    "    sentiment = {\n",
    "        \"User\": target,\n",
    "        \"Compound\": np.mean(compound_list),\n",
    "        \"Positive\": np.mean(positive_list),\n",
    "        \"Neutral\": np.mean(negative_list),\n",
    "        \"Negative\": np.mean(neutral_list),\n",
    "        \"Tweet Count\": len(compound_list)\n",
    "    }\n",
    "\n",
    "    # Print the Sentiments\n",
    "    #print(sentiment)\n",
    "    #print()\n",
    "    \n",
    "    # Append airline results to 'results_list'\n",
    "    results_list.append(sentiment)"
   ]
  },
  {
   "cell_type": "code",
   "execution_count": 3,
   "metadata": {},
   "outputs": [
    {
     "data": {
      "text/html": [
       "<div>\n",
       "<style scoped>\n",
       "    .dataframe tbody tr th:only-of-type {\n",
       "        vertical-align: middle;\n",
       "    }\n",
       "\n",
       "    .dataframe tbody tr th {\n",
       "        vertical-align: top;\n",
       "    }\n",
       "\n",
       "    .dataframe thead th {\n",
       "        text-align: right;\n",
       "    }\n",
       "</style>\n",
       "<table border=\"1\" class=\"dataframe\">\n",
       "  <thead>\n",
       "    <tr style=\"text-align: right;\">\n",
       "      <th></th>\n",
       "      <th>Compound</th>\n",
       "      <th>Negative</th>\n",
       "      <th>Neutral</th>\n",
       "      <th>Positive</th>\n",
       "      <th>Tweet Count</th>\n",
       "      <th>User</th>\n",
       "    </tr>\n",
       "  </thead>\n",
       "  <tbody>\n",
       "    <tr>\n",
       "      <th>0</th>\n",
       "      <td>0.190</td>\n",
       "      <td>0.880</td>\n",
       "      <td>0.025</td>\n",
       "      <td>0.095</td>\n",
       "      <td>68</td>\n",
       "      <td>cityofphoenixaz</td>\n",
       "    </tr>\n",
       "    <tr>\n",
       "      <th>1</th>\n",
       "      <td>0.355</td>\n",
       "      <td>0.823</td>\n",
       "      <td>0.022</td>\n",
       "      <td>0.155</td>\n",
       "      <td>52</td>\n",
       "      <td>cityofmesa</td>\n",
       "    </tr>\n",
       "    <tr>\n",
       "      <th>2</th>\n",
       "      <td>0.310</td>\n",
       "      <td>0.840</td>\n",
       "      <td>0.018</td>\n",
       "      <td>0.142</td>\n",
       "      <td>38</td>\n",
       "      <td>scottsdaleaz</td>\n",
       "    </tr>\n",
       "    <tr>\n",
       "      <th>3</th>\n",
       "      <td>0.457</td>\n",
       "      <td>0.783</td>\n",
       "      <td>0.022</td>\n",
       "      <td>0.196</td>\n",
       "      <td>52</td>\n",
       "      <td>cityofchandler</td>\n",
       "    </tr>\n",
       "    <tr>\n",
       "      <th>4</th>\n",
       "      <td>0.447</td>\n",
       "      <td>0.745</td>\n",
       "      <td>0.049</td>\n",
       "      <td>0.205</td>\n",
       "      <td>53</td>\n",
       "      <td>tempegov</td>\n",
       "    </tr>\n",
       "    <tr>\n",
       "      <th>5</th>\n",
       "      <td>0.372</td>\n",
       "      <td>0.788</td>\n",
       "      <td>0.030</td>\n",
       "      <td>0.181</td>\n",
       "      <td>47</td>\n",
       "      <td>glendaleaz</td>\n",
       "    </tr>\n",
       "    <tr>\n",
       "      <th>6</th>\n",
       "      <td>0.339</td>\n",
       "      <td>0.847</td>\n",
       "      <td>0.010</td>\n",
       "      <td>0.143</td>\n",
       "      <td>48</td>\n",
       "      <td>gilbertaz</td>\n",
       "    </tr>\n",
       "  </tbody>\n",
       "</table>\n",
       "</div>"
      ],
      "text/plain": [
       "   Compound  Negative  Neutral  Positive  Tweet Count             User\n",
       "0     0.190     0.880    0.025     0.095           68  cityofphoenixaz\n",
       "1     0.355     0.823    0.022     0.155           52       cityofmesa\n",
       "2     0.310     0.840    0.018     0.142           38     scottsdaleaz\n",
       "3     0.457     0.783    0.022     0.196           52   cityofchandler\n",
       "4     0.447     0.745    0.049     0.205           53         tempegov\n",
       "5     0.372     0.788    0.030     0.181           47       glendaleaz\n",
       "6     0.339     0.847    0.010     0.143           48        gilbertaz"
      ]
     },
     "execution_count": 3,
     "metadata": {},
     "output_type": "execute_result"
    }
   ],
   "source": [
    "target_df = pd.DataFrame(results_list).round(3)\n",
    "target_df\n"
   ]
  },
  {
   "cell_type": "code",
   "execution_count": 4,
   "metadata": {},
   "outputs": [
    {
     "data": {
      "image/png": "[encoded data removed]",
      "text/plain": [
       "<Figure size 432x288 with 1 Axes>"
      ]
     },
     "metadata": {},
     "output_type": "display_data"
    },
    {
     "data": {
      "text/plain": [
       "<Figure size 432x288 with 0 Axes>"
      ]
     },
     "metadata": {},
     "output_type": "display_data"
    }
   ],
   "source": [
    "# Create dataframe for each news source and plot\n",
    "phoenix_comp_df = target_df.loc[target_df[\"User\"] == 'cityofphoenixaz']\n",
    "plt.scatter(phoenix_comp_df['Tweet Count'], phoenix_comp_df['Compound'], label='Phoenix')\n",
    "\n",
    "mesa_comp_df = target_df.loc[target_df[\"User\"] == 'cityofmesa']\n",
    "plt.scatter(mesa_comp_df['Tweet Count'], mesa_comp_df['Compound'], label='Mesa')\n",
    "\n",
    "scott_comp_df = target_df.loc[target_df[\"User\"] == 'scottsdaleaz']\n",
    "plt.scatter(scott_comp_df['Tweet Count'], scott_comp_df['Compound'], label='Scottsdale')\n",
    "\n",
    "chand_comp_df = target_df.loc[target_df[\"User\"] == 'cityofchandler']\n",
    "plt.scatter(chand_comp_df['Tweet Count'], chand_comp_df['Compound'], label='Chandler')\n",
    "\n",
    "tempe_comp_df = target_df.loc[target_df[\"User\"] == 'tempegov']\n",
    "plt.scatter(tempe_comp_df['Tweet Count'], tempe_comp_df['Compound'], label='Tempe')\n",
    "\n",
    "glend_comp_df = target_df.loc[target_df[\"User\"] == 'glendaleaz']\n",
    "plt.scatter(glend_comp_df['Tweet Count'], glend_comp_df['Compound'], label='Glendale')\n",
    "                                                                                                     \n",
    "gilb_comp_df = target_df.loc[target_df[\"User\"] == 'gilbertaz']\n",
    "plt.scatter(gilb_comp_df['Tweet Count'], gilb_comp_df['Compound'], label='Gilbert')\n",
    "\n",
    "plt.title(f'Sentiment Analysis of Media Tweets')\n",
    "plt.xlabel('Tweets Ago')\n",
    "plt.ylabel('Tweet Popularity')\n",
    "plt.legend(loc='center left', bbox_to_anchor=(1, 0.5))\n",
    "plt.grid(True)\n",
    "plt.show()\n",
    "plt.savefig(\"Sentiment_Analysis_of Media_Tweets_scatter\") \n"
   ]
  },
  {
   "cell_type": "code",
   "execution_count": 5,
   "metadata": {},
   "outputs": [
    {
     "data": {
      "image/png": "[encoded data removed]",
      "text/plain": [
       "<Figure size 720x360 with 1 Axes>"
      ]
     },
     "metadata": {},
     "output_type": "display_data"
    }
   ],
   "source": [
    "city_stats = target_df.groupby(\"User\")[\"Compound\"].mean()\n",
    "city_stats\n",
    "\n",
    "#Plot of overall Media Sentiment Analysis\n",
    "plt.figure(figsize=(10,5))\n",
    "city_stats.plot(kind='bar',color=['red', 'orange', 'blue', 'pink', 'chocolate', 'green', 'purple'])\n",
    "\n",
    "plt.ylabel('Tweet Polarity',fontsize='18')\n",
    "plt.xlabel('Media Sources',fontsize='18')\n",
    "plt.xticks(rotation=0)\n",
    "plt.title('Overall Media Sentiment based on Twitter',fontsize=(18));\n",
    "plt.savefig(\"Overall_Media_Sentiment_based_on_Twitter_barchart\")  "
   ]
  },
  {
   "cell_type": "code",
   "execution_count": null,
   "metadata": {},
   "outputs": [],
   "source": []
  }
 ],
 "metadata": {
  "kernelspec": {
   "display_name": "Python 3",
   "language": "python",
   "name": "python3"
  },
  "language_info": {
   "codemirror_mode": {
    "name": "ipython",
    "version": 3
   },
   "file_extension": ".py",
   "mimetype": "text/x-python",
   "name": "python",
   "nbconvert_exporter": "python",
   "pygments_lexer": "ipython3",
   "version": "3.6.5"
  },
  "varInspector": {
   "cols": {
    "lenName": 16,
    "lenType": 16,
    "lenVar": 40
   },
   "kernels_config": {
    "python": {
     "delete_cmd_postfix": "",
     "delete_cmd_prefix": "del ",
     "library": "var_list.py",
     "varRefreshCmd": "print(var_dic_list())"
    },
    "r": {
     "delete_cmd_postfix": ") ",
     "delete_cmd_prefix": "rm(",
     "library": "var_list.r",
     "varRefreshCmd": "cat(var_dic_list()) "
    }
   },
   "types_to_exclude": [
    "module",
    "function",
    "builtin_function_or_method",
    "instance",
    "_Feature"
   ],
   "window_display": false
  }
 },
 "nbformat": 4,
 "nbformat_minor": 2
}
