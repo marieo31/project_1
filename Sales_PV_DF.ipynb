{
 "cells": [
  {
   "cell_type": "code",
   "execution_count": 7,
   "metadata": {},
   "outputs": [],
   "source": [
    "# Dependencies\n",
    "import pandas as pd\n",
    "import numpy as np"
   ]
  },
  {
   "cell_type": "code",
   "execution_count": 8,
   "metadata": {},
   "outputs": [],
   "source": [
    "# Name of the CSV file\n",
    "file1 = 'Resources/Current_Median_Property_Value_Zip.csv'\n",
    "file2 = 'Resources/Median_Sale_Prices_Time_Zip.csv'\n",
    "file3 = 'Resources/zipcodes.csv'"
   ]
  },
  {
   "cell_type": "code",
   "execution_count": 13,
   "metadata": {},
   "outputs": [],
   "source": [
    "# Reading the file of PV\n",
    "df = pd.read_csv(file1, encoding=\"ISO-8859-1\")\n",
    "df1 = df.loc[:, [\"Date\", \"RegionName\", \"State\", \"County\", \"City\", \"Zhvi\"]]\n",
    "df2 = df1[df1['County'] == \"Maricopa\"]\n",
    "df2 = df2.rename(columns={\"RegionName\":\"Zip Code\"})\n",
    "\n",
    "# Reading the file of SP\n",
    "df3 = pd.read_csv(file2, encoding=\"ISO-8859-1\")\n",
    "df4 = df3.loc[:, [\"RegionName\", \"StateName\", \"2018-08\"]]\n",
    "df5 = df4[df4['StateName'] == \"Arizona\"]\n",
    "df5 = df5.rename(columns={\"RegionName\":\"Zip Code\"})\n",
    "\n",
    "# Reading zip codes\n",
    "df6 = pd.read_csv(file3, encoding=\"ISO-8859-1\",names = [\"Zip Code\", \"City\"])\n",
    "# df6 = df6.rename(columns={\"zipcode\":\"Zip Code\", \"city\":})"
   ]
  },
  {
   "cell_type": "code",
   "execution_count": 14,
   "metadata": {},
   "outputs": [
    {
     "data": {
      "text/html": [
       "<div>\n",
       "<style scoped>\n",
       "    .dataframe tbody tr th:only-of-type {\n",
       "        vertical-align: middle;\n",
       "    }\n",
       "\n",
       "    .dataframe tbody tr th {\n",
       "        vertical-align: top;\n",
       "    }\n",
       "\n",
       "    .dataframe thead th {\n",
       "        text-align: right;\n",
       "    }\n",
       "</style>\n",
       "<table border=\"1\" class=\"dataframe\">\n",
       "  <thead>\n",
       "    <tr style=\"text-align: right;\">\n",
       "      <th></th>\n",
       "      <th>Zip Code</th>\n",
       "      <th>City</th>\n",
       "    </tr>\n",
       "  </thead>\n",
       "  <tbody>\n",
       "    <tr>\n",
       "      <th>0</th>\n",
       "      <td>85003</td>\n",
       "      <td>Phoenix</td>\n",
       "    </tr>\n",
       "    <tr>\n",
       "      <th>1</th>\n",
       "      <td>85004</td>\n",
       "      <td>Phoenix</td>\n",
       "    </tr>\n",
       "    <tr>\n",
       "      <th>2</th>\n",
       "      <td>85006</td>\n",
       "      <td>Phoenix</td>\n",
       "    </tr>\n",
       "    <tr>\n",
       "      <th>3</th>\n",
       "      <td>85007</td>\n",
       "      <td>Phoenix</td>\n",
       "    </tr>\n",
       "    <tr>\n",
       "      <th>4</th>\n",
       "      <td>85008</td>\n",
       "      <td>Phoenix</td>\n",
       "    </tr>\n",
       "  </tbody>\n",
       "</table>\n",
       "</div>"
      ],
      "text/plain": [
       "   Zip Code      City\n",
       "0     85003   Phoenix\n",
       "1     85004   Phoenix\n",
       "2     85006   Phoenix\n",
       "3     85007   Phoenix\n",
       "4     85008   Phoenix"
      ]
     },
     "execution_count": 14,
     "metadata": {},
     "output_type": "execute_result"
    }
   ],
   "source": [
    "df6.head()"
   ]
  },
  {
   "cell_type": "code",
   "execution_count": 15,
   "metadata": {},
   "outputs": [
    {
     "data": {
      "text/html": [
       "<div>\n",
       "<style scoped>\n",
       "    .dataframe tbody tr th:only-of-type {\n",
       "        vertical-align: middle;\n",
       "    }\n",
       "\n",
       "    .dataframe tbody tr th {\n",
       "        vertical-align: top;\n",
       "    }\n",
       "\n",
       "    .dataframe thead th {\n",
       "        text-align: right;\n",
       "    }\n",
       "</style>\n",
       "<table border=\"1\" class=\"dataframe\">\n",
       "  <thead>\n",
       "    <tr style=\"text-align: right;\">\n",
       "      <th></th>\n",
       "      <th>Zip Code</th>\n",
       "      <th>City</th>\n",
       "      <th>Median Sales Price 08-18</th>\n",
       "      <th>Median Estimated Property Value 08-18</th>\n",
       "    </tr>\n",
       "  </thead>\n",
       "  <tbody>\n",
       "    <tr>\n",
       "      <th>0</th>\n",
       "      <td>85014</td>\n",
       "      <td>Phoenix</td>\n",
       "      <td>284600.0</td>\n",
       "      <td>283700</td>\n",
       "    </tr>\n",
       "    <tr>\n",
       "      <th>1</th>\n",
       "      <td>85016</td>\n",
       "      <td>Phoenix</td>\n",
       "      <td>307300.0</td>\n",
       "      <td>313600</td>\n",
       "    </tr>\n",
       "    <tr>\n",
       "      <th>2</th>\n",
       "      <td>85022</td>\n",
       "      <td>Phoenix</td>\n",
       "      <td>266800.0</td>\n",
       "      <td>270500</td>\n",
       "    </tr>\n",
       "    <tr>\n",
       "      <th>3</th>\n",
       "      <td>85023</td>\n",
       "      <td>Phoenix</td>\n",
       "      <td>259000.0</td>\n",
       "      <td>240600</td>\n",
       "    </tr>\n",
       "    <tr>\n",
       "      <th>4</th>\n",
       "      <td>85024</td>\n",
       "      <td>Phoenix</td>\n",
       "      <td>255900.0</td>\n",
       "      <td>279600</td>\n",
       "    </tr>\n",
       "  </tbody>\n",
       "</table>\n",
       "</div>"
      ],
      "text/plain": [
       "   Zip Code      City  Median Sales Price 08-18  \\\n",
       "0     85014   Phoenix                  284600.0   \n",
       "1     85016   Phoenix                  307300.0   \n",
       "2     85022   Phoenix                  266800.0   \n",
       "3     85023   Phoenix                  259000.0   \n",
       "4     85024   Phoenix                  255900.0   \n",
       "\n",
       "   Median Estimated Property Value 08-18  \n",
       "0                                 283700  \n",
       "1                                 313600  \n",
       "2                                 270500  \n",
       "3                                 240600  \n",
       "4                                 279600  "
      ]
     },
     "execution_count": 15,
     "metadata": {},
     "output_type": "execute_result"
    }
   ],
   "source": [
    "df7 = pd.merge(df6, df5, on=\"Zip Code\")\n",
    "df8 = pd.merge(df7, df2, on=\"Zip Code\")\n",
    "df9 = df8.loc[:, [\"Zip Code\", \"City_x\", \"2018-08\", \"Zhvi\"]]\n",
    "df9 = df9.rename(columns={\"City_x\":\"City\", \"2018-08\":\"Median Sales Price 08-18\",\n",
    "                          \"Zhvi\":\"Median Estimated Property Value 08-18\"})\n",
    "df9.head()"
   ]
  },
  {
   "cell_type": "code",
   "execution_count": null,
   "metadata": {},
   "outputs": [],
   "source": []
  }
 ],
 "metadata": {
  "kernelspec": {
   "display_name": "Python 3",
   "language": "python",
   "name": "python3"
  },
  "language_info": {
   "codemirror_mode": {
    "name": "ipython",
    "version": 3
   },
   "file_extension": ".py",
   "mimetype": "text/x-python",
   "name": "python",
   "nbconvert_exporter": "python",
   "pygments_lexer": "ipython3",
   "version": "3.6.5"
  }
 },
 "nbformat": 4,
 "nbformat_minor": 2
}
