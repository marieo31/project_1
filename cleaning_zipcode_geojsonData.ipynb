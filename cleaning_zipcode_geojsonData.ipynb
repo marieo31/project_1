{
 "cells": [
  {
   "cell_type": "code",
   "execution_count": null,
   "metadata": {},
   "outputs": [],
   "source": [
    "import json\n",
    "import csv"
   ]
  },
  {
   "cell_type": "code",
   "execution_count": null,
   "metadata": {},
   "outputs": [],
   "source": [
    "fpath = r\"resources/az_arizona_zip_codes_geo.min.json\" # File containing the geographic info of the zipcode\n",
    "fziplist = r\"resources/zipcodes.csv\" # File containing all the zip codes we want to study\n",
    "\n",
    "# Opening the json file and loading the json content as a dictionnary\n",
    "with file as open(fpath):\n",
    "    data = json.load(file)\n",
    "    \n",
    "with file as open(fziplist):\n",
    "    zip_list = csv.re\n",
    "    \n",
    "    \n",
    "# The file contain data about all the AZ zipcode, we want to keep only the Phoenix Metropolitan area    \n",
    "\n",
    "for ii in range(10):\n",
    "\n",
    "    bla = data['features'][ii]['properties']['ZCTA5CE10']    \n",
    "    "
   ]
  }
 ],
 "metadata": {
  "kernelspec": {
   "display_name": "Python 3",
   "language": "python",
   "name": "python3"
  },
  "language_info": {
   "codemirror_mode": {
    "name": "ipython",
    "version": 3
   },
   "file_extension": ".py",
   "mimetype": "text/x-python",
   "name": "python",
   "nbconvert_exporter": "python",
   "pygments_lexer": "ipython3",
   "version": "3.6.5"
  }
 },
 "nbformat": 4,
 "nbformat_minor": 2
}
