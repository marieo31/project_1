{
 "cells": [
  {
   "cell_type": "code",
   "execution_count": 2,
   "metadata": {},
   "outputs": [],
   "source": [
    "# Dependencies\n",
    "import pandas as pd\n",
    "import numpy as np\n",
    "import csv\n",
    "import os\n",
    "from pandas import DataFrame\n",
    "import matplotlib.pyplot as plt\n",
    "import numpy as np"
   ]
  },
  {
   "cell_type": "code",
   "execution_count": 3,
   "metadata": {},
   "outputs": [],
   "source": [
    "file_crime = \"resources/clean_crime_data_with_rates.csv\"\n",
    "file_income = \"resources/clean_income_file.csv\""
   ]
  },
  {
   "cell_type": "code",
   "execution_count": 4,
   "metadata": {},
   "outputs": [
    {
     "data": {
      "text/html": [
       "<div>\n",
       "<style scoped>\n",
       "    .dataframe tbody tr th:only-of-type {\n",
       "        vertical-align: middle;\n",
       "    }\n",
       "\n",
       "    .dataframe tbody tr th {\n",
       "        vertical-align: top;\n",
       "    }\n",
       "\n",
       "    .dataframe thead th {\n",
       "        text-align: right;\n",
       "    }\n",
       "</style>\n",
       "<table border=\"1\" class=\"dataframe\">\n",
       "  <thead>\n",
       "    <tr style=\"text-align: right;\">\n",
       "      <th></th>\n",
       "      <th>ZipCode</th>\n",
       "      <th>City</th>\n",
       "      <th>nb of crimes</th>\n",
       "      <th>Number of returns</th>\n",
       "      <th>crime per tax payer</th>\n",
       "    </tr>\n",
       "  </thead>\n",
       "  <tbody>\n",
       "    <tr>\n",
       "      <th>0</th>\n",
       "      <td>85003</td>\n",
       "      <td>Phoenix</td>\n",
       "      <td>2203.0</td>\n",
       "      <td>3900.0</td>\n",
       "      <td>0.564872</td>\n",
       "    </tr>\n",
       "    <tr>\n",
       "      <th>1</th>\n",
       "      <td>85004</td>\n",
       "      <td>Phoenix</td>\n",
       "      <td>2310.0</td>\n",
       "      <td>2960.0</td>\n",
       "      <td>0.780405</td>\n",
       "    </tr>\n",
       "    <tr>\n",
       "      <th>2</th>\n",
       "      <td>85006</td>\n",
       "      <td>Phoenix</td>\n",
       "      <td>3769.0</td>\n",
       "      <td>9680.0</td>\n",
       "      <td>0.389360</td>\n",
       "    </tr>\n",
       "    <tr>\n",
       "      <th>3</th>\n",
       "      <td>85007</td>\n",
       "      <td>Phoenix</td>\n",
       "      <td>3002.0</td>\n",
       "      <td>5300.0</td>\n",
       "      <td>0.566415</td>\n",
       "    </tr>\n",
       "    <tr>\n",
       "      <th>4</th>\n",
       "      <td>85008</td>\n",
       "      <td>Phoenix</td>\n",
       "      <td>8935.0</td>\n",
       "      <td>23140.0</td>\n",
       "      <td>0.386128</td>\n",
       "    </tr>\n",
       "  </tbody>\n",
       "</table>\n",
       "</div>"
      ],
      "text/plain": [
       "   ZipCode      City  nb of crimes  Number of returns  crime per tax payer\n",
       "0    85003   Phoenix        2203.0             3900.0             0.564872\n",
       "1    85004   Phoenix        2310.0             2960.0             0.780405\n",
       "2    85006   Phoenix        3769.0             9680.0             0.389360\n",
       "3    85007   Phoenix        3002.0             5300.0             0.566415\n",
       "4    85008   Phoenix        8935.0            23140.0             0.386128"
      ]
     },
     "execution_count": 4,
     "metadata": {},
     "output_type": "execute_result"
    }
   ],
   "source": [
    "df_crime = pd.read_csv(file_crime)\n",
    "\n",
    "df_crime.head()\n"
   ]
  },
  {
   "cell_type": "code",
   "execution_count": 5,
   "metadata": {},
   "outputs": [
    {
     "data": {
      "text/html": [
       "<div>\n",
       "<style scoped>\n",
       "    .dataframe tbody tr th:only-of-type {\n",
       "        vertical-align: middle;\n",
       "    }\n",
       "\n",
       "    .dataframe tbody tr th {\n",
       "        vertical-align: top;\n",
       "    }\n",
       "\n",
       "    .dataframe thead th {\n",
       "        text-align: right;\n",
       "    }\n",
       "</style>\n",
       "<table border=\"1\" class=\"dataframe\">\n",
       "  <thead>\n",
       "    <tr style=\"text-align: right;\">\n",
       "      <th></th>\n",
       "      <th>Zip Code</th>\n",
       "      <th>City</th>\n",
       "      <th>Number of returns</th>\n",
       "      <th>Amount</th>\n",
       "      <th>Average Income</th>\n",
       "    </tr>\n",
       "  </thead>\n",
       "  <tbody>\n",
       "    <tr>\n",
       "      <th>0</th>\n",
       "      <td>85003</td>\n",
       "      <td>Phoenix</td>\n",
       "      <td>3,900</td>\n",
       "      <td>290,006</td>\n",
       "      <td>74360.51</td>\n",
       "    </tr>\n",
       "    <tr>\n",
       "      <th>1</th>\n",
       "      <td>85004</td>\n",
       "      <td>Phoenix</td>\n",
       "      <td>2,960</td>\n",
       "      <td>232,765</td>\n",
       "      <td>78636.82</td>\n",
       "    </tr>\n",
       "    <tr>\n",
       "      <th>2</th>\n",
       "      <td>85006</td>\n",
       "      <td>Phoenix</td>\n",
       "      <td>9,680</td>\n",
       "      <td>352,359</td>\n",
       "      <td>36400.72</td>\n",
       "    </tr>\n",
       "    <tr>\n",
       "      <th>3</th>\n",
       "      <td>85007</td>\n",
       "      <td>Phoenix</td>\n",
       "      <td>5,300</td>\n",
       "      <td>278,695</td>\n",
       "      <td>52583.96</td>\n",
       "    </tr>\n",
       "    <tr>\n",
       "      <th>4</th>\n",
       "      <td>85008</td>\n",
       "      <td>Phoenix</td>\n",
       "      <td>23,140</td>\n",
       "      <td>797,391</td>\n",
       "      <td>34459.42</td>\n",
       "    </tr>\n",
       "  </tbody>\n",
       "</table>\n",
       "</div>"
      ],
      "text/plain": [
       "   Zip Code      City Number of returns   Amount  Average Income\n",
       "0     85003   Phoenix             3,900  290,006        74360.51\n",
       "1     85004   Phoenix             2,960  232,765        78636.82\n",
       "2     85006   Phoenix             9,680  352,359        36400.72\n",
       "3     85007   Phoenix             5,300  278,695        52583.96\n",
       "4     85008   Phoenix            23,140  797,391        34459.42"
      ]
     },
     "execution_count": 5,
     "metadata": {},
     "output_type": "execute_result"
    }
   ],
   "source": [
    "df_income = pd.read_csv(file_income)\n",
    "df_income.head()\n"
   ]
  },
  {
   "cell_type": "code",
   "execution_count": 24,
   "metadata": {},
   "outputs": [
    {
     "data": {
      "image/png": "[encoded data removed]",
      "text/plain": [
       "<Figure size 720x432 with 1 Axes>"
      ]
     },
     "metadata": {},
     "output_type": "display_data"
    }
   ],
   "source": [
    "plt.figure(figsize=(10,6))\n",
    "# plt.\n",
    "\n",
    "plt.scatter(df_crime['crime per tax payer'], df_income['Average Income'],  s=40)\n",
    "plt.tick_params(axis='both', which='major', labelsize=12)\n",
    "plt.xlabel(\"Crime rate \",fontsize=12)\n",
    "plt.ylabel(\"Average Income\", fontsize=12)\n",
    "plt.ylim(0,500000)\n",
    "plt.title(\"Crime rate vs. Income\", fontsize=12)\n",
    "plt.grid()\n",
    "plt.savefig(\"plots/scatter_crime_vs_income.png\")\n",
    "plt.show()"
   ]
  },
  {
   "cell_type": "code",
   "execution_count": null,
   "metadata": {},
   "outputs": [],
   "source": [
    "# plt.figure()\n",
    "\n",
    "# plt.scatter(df_income['df_crime['nb of crimes'])"
   ]
  }
 ],
 "metadata": {
  "kernelspec": {
   "display_name": "Python 3",
   "language": "python",
   "name": "python3"
  },
  "language_info": {
   "codemirror_mode": {
    "name": "ipython",
    "version": 3
   },
   "file_extension": ".py",
   "mimetype": "text/x-python",
   "name": "python",
   "nbconvert_exporter": "python",
   "pygments_lexer": "ipython3",
   "version": "3.6.5"
  }
 },
 "nbformat": 4,
 "nbformat_minor": 2
}
